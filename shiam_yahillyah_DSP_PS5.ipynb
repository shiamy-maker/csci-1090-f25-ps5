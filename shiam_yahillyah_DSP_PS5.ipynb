{
  "cells": [
    {
      "cell_type": "markdown",
      "metadata": {
        "id": "WmY9X0tZp6MY"
      },
      "source": [
        "# Problem Set 5: Working with numpy and pandas\n",
        "\n",
        "** This problem set is due Wednesday, October 22, at 11:59pm EDT**\n",
        "\n",
        "## Getting started\n",
        "\n",
        "1. Change the title of this notebook to `YourLastName_YourFirstName_DSP_PS5.ipynb`."
      ]
    },
    {
      "cell_type": "markdown",
      "metadata": {
        "id": "fdQ_IaGACPbV"
      },
      "source": [
        "## This code is my own work.\n",
        "## I did not share my code or look at the code of another student.\n",
        "## I did not consult ChatGPT, CoPilot, or another large language model.\n",
        "Remember: to edit a text cell, double click!\n"
      ]
    },
    {
      "cell_type": "markdown",
      "metadata": {
        "id": "yiQ_qwe_r1K5"
      },
      "source": [
        "## Part 1: NumPy for Michael Jordan stats\n",
        "\n",
        "In this part of the problem set, you will be downloading and reading in a dataset of statistics for [Michael Jordan](https://en.wikipedia.org/wiki/Michael_Jordan)'s basketball career.\n",
        "\n",
        "View the [dataset in an easy-to-read format here](https://github.com/CSCI1090-S24/ps6/blob/main/michael-jordan.csv) or by clicking on the `michael-jordan.csv` file in your GitHub repo to get an idea of the statistics.\n",
        "\n",
        "Then download the dataset for analysis in this notebook by executing the code below.\n",
        "\n",
        "**Note:** You will have to re-download the file whenever Colab decides to end your session. In general with Colab, if you step away from your computer for a while or just leave this web page for a while, you'll need to re-execute your code from the beginning."
      ]
    },
    {
      "cell_type": "code",
      "execution_count": 3,
      "metadata": {
        "id": "CrU92bEWp055",
        "colab": {
          "base_uri": "https://localhost:8080/"
        },
        "outputId": "cd1bec35-e872-448e-eeef-3b0f0fd209d7"
      },
      "outputs": [
        {
          "output_type": "stream",
          "name": "stdout",
          "text": [
            "--2025-10-23 03:32:08--  https://raw.githubusercontent.com/finocchiaro-classes/csci-1090-f25-ps5/main/michael-jordan.csv\n",
            "Resolving raw.githubusercontent.com (raw.githubusercontent.com)... 185.199.111.133, 185.199.110.133, 185.199.108.133, ...\n",
            "Connecting to raw.githubusercontent.com (raw.githubusercontent.com)|185.199.111.133|:443... connected.\n",
            "HTTP request sent, awaiting response... 200 OK\n",
            "Length: 37200 (36K) [text/plain]\n",
            "Saving to: ‘michael-jordan.csv’\n",
            "\n",
            "\rmichael-jordan.csv    0%[                    ]       0  --.-KB/s               \rmichael-jordan.csv  100%[===================>]  36.33K  --.-KB/s    in 0.004s  \n",
            "\n",
            "2025-10-23 03:32:08 (8.30 MB/s) - ‘michael-jordan.csv’ saved [37200/37200]\n",
            "\n"
          ]
        }
      ],
      "source": [
        "!rm michael-jordan.csv*\n",
        "!wget https://raw.githubusercontent.com/finocchiaro-classes/csci-1090-f25-ps5/main/michael-jordan.csv"
      ]
    },
    {
      "cell_type": "markdown",
      "metadata": {
        "id": "eDUSTbHJsycX"
      },
      "source": [
        "### Your tasks\n",
        "\n",
        "Your goal is to answer the following questions using numpy. Questions 1-7 will involve using numpy aggregate functions like `sum()` and `mean()`. Question 8 will involve using the `count_nonzero()` function.\n",
        "\n",
        "1. How many NBA games did Michael Jordan play?\n",
        "2. What year was Jordan's first year in the NBA?\n",
        "3. How old was Michael Jordan in his last NBA game?\n",
        "4. How many total wins did  Jordan's team have? (In the Wins column, 1=won, 0=lost.)\n",
        "5. On average, how many minutes did Jordan play per game?\n",
        "6. What was Michael's overall shooting percentage? In other words, of all the shots he took, how many did he make?\n",
        "7. How many total rebounds did he have, including both offensive and defensive rebounds?\n",
        "8. In how many games did he foul out? (You \"foul out\" and leave the game when you make 6 fouls.)\n",
        "\n",
        "I've included code for reading in the file and for printing out the column names for your reference."
      ]
    },
    {
      "cell_type": "code",
      "execution_count": 5,
      "metadata": {
        "id": "BtJKIoPpuTk7"
      },
      "outputs": [],
      "source": [
        "# Here is the import statement.\n",
        "\n",
        "# In generally, when we import numpy we import it as np.\n",
        "# np is just a shortcut so we don't have to type numpy\n",
        "# every time we want to use an numpy function.\n",
        "\n",
        "import numpy as np"
      ]
    },
    {
      "cell_type": "code",
      "execution_count": 6,
      "metadata": {
        "id": "A-jFT96usyLX"
      },
      "outputs": [],
      "source": [
        "# Reading in the file into a numpy array called jordan\n",
        "# NOTE: I am skipping the first row since it's all strings\n",
        "\n",
        "jordan = np.loadtxt(\"michael-jordan.csv\",\n",
        "                    delimiter=\",\",\n",
        "                    skiprows=1,\n",
        "                    dtype=float)\n"
      ]
    },
    {
      "cell_type": "code",
      "execution_count": 7,
      "metadata": {
        "id": "grlWuXA3vpHu",
        "colab": {
          "base_uri": "https://localhost:8080/"
        },
        "outputId": "56ba3a7c-f0d2-45f5-9276-4d4cd8538ea5"
      },
      "outputs": [
        {
          "output_type": "stream",
          "name": "stdout",
          "text": [
            "column 0 = EndYear\n",
            "column 1 = Age\n",
            "column 2 = Win\n",
            "column 3 = Minutes Played\n",
            "column 4 = Shots made\n",
            "column 5 = Shots attemped\n",
            "column 6 = Offensive rebounds\n",
            "column 7 = Defensive rebounds\n",
            "column 8 = Personal fouls\n"
          ]
        }
      ],
      "source": [
        "# These lines of code are just here to remind you which column\n",
        "# corresponds to which statistics.\n",
        "with open(\"michael-jordan.csv\") as f:\n",
        "  stat_names = f.readline().rstrip().split(\",\")\n",
        "\n",
        "for i in range(len(stat_names)):\n",
        "  print(f\"column {i} = {stat_names[i]}\")"
      ]
    },
    {
      "cell_type": "code",
      "execution_count": 11,
      "metadata": {
        "id": "1RwR0KwexfoC",
        "colab": {
          "base_uri": "https://localhost:8080/"
        },
        "outputId": "c24dfbab-16c4-4cb5-8982-5e0ddfb6f4b7"
      },
      "outputs": [
        {
          "output_type": "stream",
          "name": "stdout",
          "text": [
            "Michael Jordan played 1072 games.\n"
          ]
        }
      ],
      "source": [
        "# 1. How many NBA games did Michael Jordan play?\n",
        "\n",
        "num_games_played = len(jordan)\n",
        "print(f'Michael Jordan played {num_games_played} games.')\n"
      ]
    },
    {
      "cell_type": "code",
      "execution_count": 12,
      "metadata": {
        "id": "eJ86mkh1uwj3",
        "colab": {
          "base_uri": "https://localhost:8080/"
        },
        "outputId": "8d3483ef-99b5-4cab-fb27-fb6ae9df6947"
      },
      "outputs": [
        {
          "output_type": "stream",
          "name": "stdout",
          "text": [
            "Michael Jordan's first year in the NBA is: 1985\n"
          ]
        }
      ],
      "source": [
        "# 2. What year was Jordan's first year in the NBA?\n",
        "\n",
        "print(f\"Michael Jordan's first year in the NBA is: {np.min(jordan[:,0]):.0f}\")\n"
      ]
    },
    {
      "cell_type": "code",
      "execution_count": 13,
      "metadata": {
        "id": "wDGlqUhlulRp",
        "colab": {
          "base_uri": "https://localhost:8080/"
        },
        "outputId": "a294302c-7805-4d3a-c465-2fa0e07ee079"
      },
      "outputs": [
        {
          "output_type": "stream",
          "name": "stdout",
          "text": [
            "Michael Jordan was 40 years old in his last game.\n"
          ]
        }
      ],
      "source": [
        "# 3. How old was Michael Jordan in his last NBA game?\n",
        "\n",
        "print(f\"Michael Jordan was {np.max(jordan[:,1]):.0f} years old in his last game.\")\n"
      ]
    },
    {
      "cell_type": "code",
      "execution_count": 14,
      "metadata": {
        "id": "leCaHSbtuy5a",
        "colab": {
          "base_uri": "https://localhost:8080/"
        },
        "outputId": "5d4e08c5-5f04-49b2-86e4-17ad51d2dc80"
      },
      "outputs": [
        {
          "output_type": "stream",
          "name": "stdout",
          "text": [
            "The total wins of Michael Jordan's team was 706.\n"
          ]
        }
      ],
      "source": [
        "# 4. How many total wins did Jordan's team have? (In the Wins column, 1=won, 0=lost.)\n",
        "\n",
        "print(f\"The total wins of Michael Jordan's team was {np.sum(jordan[:,2]):.0f}.\")\n",
        "\n"
      ]
    },
    {
      "cell_type": "code",
      "execution_count": 15,
      "metadata": {
        "id": "YsEUVOQ9u1Yo",
        "colab": {
          "base_uri": "https://localhost:8080/"
        },
        "outputId": "ef06bc9e-6219-4713-e209-69923c73283b"
      },
      "outputs": [
        {
          "output_type": "stream",
          "name": "stdout",
          "text": [
            "Jordan played a total of 38.26 minutes per game.\n"
          ]
        }
      ],
      "source": [
        "# 5. On average, how many minutes did Jordan play per game?\n",
        "\n",
        "print(f\"Jordan played a total of {np.mean(jordan[:,3]):.2f} minutes per game.\")\n",
        "\n"
      ]
    },
    {
      "cell_type": "code",
      "execution_count": 18,
      "metadata": {
        "id": "kOBmZhM9u31t",
        "colab": {
          "base_uri": "https://localhost:8080/"
        },
        "outputId": "43d435ab-4cc0-400f-ec54-72d40ddbb918"
      },
      "outputs": [
        {
          "output_type": "stream",
          "name": "stdout",
          "text": [
            "Michael's overall shotting percentage was 49.69%.\n"
          ]
        }
      ],
      "source": [
        "# 6. What was Michael's overall shooting percentage?\n",
        "\n",
        "shots_made = (np.sum(jordan[:,4]))\n",
        "shots_attempted = (np.sum(jordan[:,5]))\n",
        "shotting_percentage = (shots_made / shots_attempted) * 100\n",
        "print(f\"Michael's overall shotting percentage was {shotting_percentage:.2f}%.\")\n"
      ]
    },
    {
      "cell_type": "code",
      "execution_count": 20,
      "metadata": {
        "id": "LVuTOwDXu6Bs",
        "colab": {
          "base_uri": "https://localhost:8080/"
        },
        "outputId": "8c559784-163c-4a1b-8de6-11be75be8d17"
      },
      "outputs": [
        {
          "output_type": "stream",
          "name": "stdout",
          "text": [
            "Jordan has 6672 total rebounds.\n"
          ]
        }
      ],
      "source": [
        "# 7. How many total rebounds did he have, including both offensive and defensive rebounds?\n",
        "\n",
        "offensive_rebounds = (np.sum(jordan[:,6]))\n",
        "defensive_rebounds = (np.sum(jordan[:,7]))\n",
        "total_rebounds = offensive_rebounds + defensive_rebounds\n",
        "print(f\"Jordan has {total_rebounds:.0f} total rebounds.\")\n"
      ]
    },
    {
      "cell_type": "code",
      "execution_count": 21,
      "metadata": {
        "id": "hdYwaLNFu-IS",
        "colab": {
          "base_uri": "https://localhost:8080/"
        },
        "outputId": "53c60f02-bda5-4b27-9a32-ec4a6f028c0a"
      },
      "outputs": [
        {
          "output_type": "stream",
          "name": "stdout",
          "text": [
            "Jordan fouled out in 11 games.\n"
          ]
        }
      ],
      "source": [
        "# 8. In how many games did he foul out?\n",
        "\n",
        "personal_foul = (jordan[:,8])\n",
        "foul_out = np.count_nonzero(personal_foul > 5)\n",
        "print(f\"Jordan fouled out in {foul_out} games.\")\n"
      ]
    },
    {
      "cell_type": "markdown",
      "metadata": {
        "id": "noNe4It8yXNU"
      },
      "source": [
        "This is what your output should look like. Remember, as a data scientist, you need to make your results easy to interpret and understand for a layperson. Therefore, you must make your output look nice, like this.\n",
        "\n",
        "Remember to make things whole numbers that are whole number (e.g., years, totals, age, games). You can do this with `round()` or with f-strings (e.g., `print(f\"{my_year_variable:.0f\"})`. We will deduct points if the number formatting is incorrect.\n",
        "\n",
        "```\n",
        "Games played: 1072\n",
        "First year in the NBA: 1985\n",
        "Age in last game: 40 years\n",
        "Total wins: 706\n",
        "Average minutes played per game: 38.26 minutes\n",
        "Overall shooting percentage: %49.69\n",
        "Total rebounds: 6672\n",
        "Games fouled out: 11\n",
        "```"
      ]
    },
    {
      "cell_type": "markdown",
      "metadata": {
        "id": "xMN4IMW3z4Y9"
      },
      "source": [
        "## Part 2: Pandas for country data\n",
        "\n",
        "Now you are going to use pandas to analyze some data. As we learned in class, pandas has many advantages over numpy. The two most helpful are (1) you can have data of mixed types (strings, ints, floats..), and (2) you can refer to columns with their names rather than having to remember their index numbers.\n",
        "\n",
        "The code cell below will download the dataset we'll be using for Part 2. You can view the dataset in a [pleasant easy-to-read format here](https://github.com/CSCI1090-S24/ps6/blob/main/country-data.csv) or in your own repo.\n",
        "\n"
      ]
    },
    {
      "cell_type": "code",
      "execution_count": 1,
      "metadata": {
        "id": "EQLftCHWxzNL",
        "colab": {
          "base_uri": "https://localhost:8080/"
        },
        "outputId": "3b3fea69-2203-478a-a9f5-1703d4fed1a4"
      },
      "outputs": [
        {
          "output_type": "stream",
          "name": "stdout",
          "text": [
            "rm: cannot remove 'country-data.csv*': No such file or directory\n",
            "--2025-10-23 03:31:33--  https://raw.githubusercontent.com/finocchiaro-classes/csci-1090-f25-ps5/main/country-data.csv\n",
            "Resolving raw.githubusercontent.com (raw.githubusercontent.com)... 185.199.111.133, 185.199.109.133, 185.199.108.133, ...\n",
            "Connecting to raw.githubusercontent.com (raw.githubusercontent.com)|185.199.111.133|:443... connected.\n",
            "HTTP request sent, awaiting response... 200 OK\n",
            "Length: 14904 (15K) [text/plain]\n",
            "Saving to: ‘country-data.csv’\n",
            "\n",
            "country-data.csv    100%[===================>]  14.55K  --.-KB/s    in 0.001s  \n",
            "\n",
            "2025-10-23 03:31:33 (9.83 MB/s) - ‘country-data.csv’ saved [14904/14904]\n",
            "\n"
          ]
        }
      ],
      "source": [
        "!rm country-data.csv*\n",
        "!wget https://raw.githubusercontent.com/finocchiaro-classes/csci-1090-f25-ps5/main/country-data.csv"
      ]
    },
    {
      "cell_type": "markdown",
      "metadata": {
        "id": "V0oB6ZZG23Ji"
      },
      "source": [
        "It is very easy to load in a csv dataset in pandas, but this time, I will do it for you in the cell below. In the future you will have to do this yourself!"
      ]
    },
    {
      "cell_type": "code",
      "execution_count": 22,
      "metadata": {
        "id": "Ntn3LI9G16kt"
      },
      "outputs": [],
      "source": [
        "import pandas as pd\n",
        "\n",
        "countries = pd.read_csv(\"country-data.csv\")"
      ]
    },
    {
      "cell_type": "markdown",
      "metadata": {
        "id": "hVBRStgF3N2a"
      },
      "source": [
        "### Your tasks\n",
        "\n",
        "Print out the following information, using the formatting shown at the end of this text cell. **Select 10 of the 12 following tasks.**\n",
        "\n",
        "1. Number of countries.\n",
        "2. Column names.\n",
        "3. Summary descriptive statistics.\n",
        "4. Average literacy rate in the world.\n",
        "7. Top 5 most populous countries\n",
        "9. The 5 countries with the lowest birthrate.\n",
        "5. Number of countries in \"BALTICS\".\n",
        "6. Number of countries in each region.\n",
        "10. Average number of phones per 1000 people in \"OCEANIA\".\n",
        "9. Area of arable land, in square miles, in Kazakhstan.\n",
        "11. The country with the highest population density.\n",
        "12. The \"LATIN AMER. & CARIB\" with the highest GDP.\n",
        "\n"
      ]
    },
    {
      "cell_type": "code",
      "execution_count": 23,
      "metadata": {
        "id": "zMYaHGMs3KrX",
        "colab": {
          "base_uri": "https://localhost:8080/"
        },
        "outputId": "01e2fdcc-a295-4273-98ad-a38e634044c4"
      },
      "outputs": [
        {
          "output_type": "stream",
          "name": "stdout",
          "text": [
            "Number of countries: 226\n"
          ]
        }
      ],
      "source": [
        "# 1. Print out the number of countries.\n",
        "\n",
        "num_of_countries = countries['Country'].unique()\n",
        "num_of_countries2 = len(num_of_countries)\n",
        "print(f\"Number of countries: {num_of_countries2}\")\n"
      ]
    },
    {
      "cell_type": "code",
      "execution_count": 24,
      "metadata": {
        "id": "Tx-hl3CxcT98",
        "colab": {
          "base_uri": "https://localhost:8080/"
        },
        "outputId": "e842523b-5643-4a7c-ec02-9aa89513d0c8"
      },
      "outputs": [
        {
          "output_type": "stream",
          "name": "stdout",
          "text": [
            "['Country', 'Region', 'Population', 'Area-Sq-Mi', 'GDP', 'Literacy-Rate', 'Phones-per-1000', 'Arable-Percentage', 'Birthrate']\n"
          ]
        }
      ],
      "source": [
        "# 2. Print out the column names.\n",
        "\n",
        "print(countries.columns.tolist())\n"
      ]
    },
    {
      "cell_type": "code",
      "execution_count": 25,
      "metadata": {
        "id": "jmS49SsfcUKZ",
        "colab": {
          "base_uri": "https://localhost:8080/",
          "height": 300
        },
        "outputId": "76372f3d-01ce-4926-fb21-dc14a3a14e2d"
      },
      "outputs": [
        {
          "output_type": "execute_result",
          "data": {
            "text/plain": [
              "         Population    Area-Sq-Mi           GDP  Literacy-Rate  \\\n",
              "count  2.270000e+02  2.270000e+02    226.000000     209.000000   \n",
              "mean   2.874028e+07  5.982270e+05   9689.823009      82.838278   \n",
              "std    1.178913e+08  1.790282e+06  10049.138513      19.722173   \n",
              "min    7.026000e+03  2.000000e+00    500.000000      17.600000   \n",
              "25%    4.376240e+05  4.647500e+03   1900.000000      70.600000   \n",
              "50%    4.786994e+06  8.660000e+04   5550.000000      92.500000   \n",
              "75%    1.749777e+07  4.418110e+05  15700.000000      98.000000   \n",
              "max    1.313974e+09  1.707520e+07  55100.000000     100.000000   \n",
              "\n",
              "       Phones-per-1000  Arable-Percentage   Birthrate  \n",
              "count       223.000000         225.000000  224.000000  \n",
              "mean        236.061435          13.797111   22.114732  \n",
              "std         227.991829          13.040402   11.176716  \n",
              "min           0.200000           0.000000    7.290000  \n",
              "25%          37.800000           3.220000   12.672500  \n",
              "50%         176.200000          10.420000   18.790000  \n",
              "75%         389.650000          20.000000   29.820000  \n",
              "max        1035.600000          62.110000   50.730000  "
            ],
            "text/html": [
              "\n",
              "  <div id=\"df-9a89d81e-6f9a-4459-ae6e-ce6ddf6ae55f\" class=\"colab-df-container\">\n",
              "    <div>\n",
              "<style scoped>\n",
              "    .dataframe tbody tr th:only-of-type {\n",
              "        vertical-align: middle;\n",
              "    }\n",
              "\n",
              "    .dataframe tbody tr th {\n",
              "        vertical-align: top;\n",
              "    }\n",
              "\n",
              "    .dataframe thead th {\n",
              "        text-align: right;\n",
              "    }\n",
              "</style>\n",
              "<table border=\"1\" class=\"dataframe\">\n",
              "  <thead>\n",
              "    <tr style=\"text-align: right;\">\n",
              "      <th></th>\n",
              "      <th>Population</th>\n",
              "      <th>Area-Sq-Mi</th>\n",
              "      <th>GDP</th>\n",
              "      <th>Literacy-Rate</th>\n",
              "      <th>Phones-per-1000</th>\n",
              "      <th>Arable-Percentage</th>\n",
              "      <th>Birthrate</th>\n",
              "    </tr>\n",
              "  </thead>\n",
              "  <tbody>\n",
              "    <tr>\n",
              "      <th>count</th>\n",
              "      <td>2.270000e+02</td>\n",
              "      <td>2.270000e+02</td>\n",
              "      <td>226.000000</td>\n",
              "      <td>209.000000</td>\n",
              "      <td>223.000000</td>\n",
              "      <td>225.000000</td>\n",
              "      <td>224.000000</td>\n",
              "    </tr>\n",
              "    <tr>\n",
              "      <th>mean</th>\n",
              "      <td>2.874028e+07</td>\n",
              "      <td>5.982270e+05</td>\n",
              "      <td>9689.823009</td>\n",
              "      <td>82.838278</td>\n",
              "      <td>236.061435</td>\n",
              "      <td>13.797111</td>\n",
              "      <td>22.114732</td>\n",
              "    </tr>\n",
              "    <tr>\n",
              "      <th>std</th>\n",
              "      <td>1.178913e+08</td>\n",
              "      <td>1.790282e+06</td>\n",
              "      <td>10049.138513</td>\n",
              "      <td>19.722173</td>\n",
              "      <td>227.991829</td>\n",
              "      <td>13.040402</td>\n",
              "      <td>11.176716</td>\n",
              "    </tr>\n",
              "    <tr>\n",
              "      <th>min</th>\n",
              "      <td>7.026000e+03</td>\n",
              "      <td>2.000000e+00</td>\n",
              "      <td>500.000000</td>\n",
              "      <td>17.600000</td>\n",
              "      <td>0.200000</td>\n",
              "      <td>0.000000</td>\n",
              "      <td>7.290000</td>\n",
              "    </tr>\n",
              "    <tr>\n",
              "      <th>25%</th>\n",
              "      <td>4.376240e+05</td>\n",
              "      <td>4.647500e+03</td>\n",
              "      <td>1900.000000</td>\n",
              "      <td>70.600000</td>\n",
              "      <td>37.800000</td>\n",
              "      <td>3.220000</td>\n",
              "      <td>12.672500</td>\n",
              "    </tr>\n",
              "    <tr>\n",
              "      <th>50%</th>\n",
              "      <td>4.786994e+06</td>\n",
              "      <td>8.660000e+04</td>\n",
              "      <td>5550.000000</td>\n",
              "      <td>92.500000</td>\n",
              "      <td>176.200000</td>\n",
              "      <td>10.420000</td>\n",
              "      <td>18.790000</td>\n",
              "    </tr>\n",
              "    <tr>\n",
              "      <th>75%</th>\n",
              "      <td>1.749777e+07</td>\n",
              "      <td>4.418110e+05</td>\n",
              "      <td>15700.000000</td>\n",
              "      <td>98.000000</td>\n",
              "      <td>389.650000</td>\n",
              "      <td>20.000000</td>\n",
              "      <td>29.820000</td>\n",
              "    </tr>\n",
              "    <tr>\n",
              "      <th>max</th>\n",
              "      <td>1.313974e+09</td>\n",
              "      <td>1.707520e+07</td>\n",
              "      <td>55100.000000</td>\n",
              "      <td>100.000000</td>\n",
              "      <td>1035.600000</td>\n",
              "      <td>62.110000</td>\n",
              "      <td>50.730000</td>\n",
              "    </tr>\n",
              "  </tbody>\n",
              "</table>\n",
              "</div>\n",
              "    <div class=\"colab-df-buttons\">\n",
              "\n",
              "  <div class=\"colab-df-container\">\n",
              "    <button class=\"colab-df-convert\" onclick=\"convertToInteractive('df-9a89d81e-6f9a-4459-ae6e-ce6ddf6ae55f')\"\n",
              "            title=\"Convert this dataframe to an interactive table.\"\n",
              "            style=\"display:none;\">\n",
              "\n",
              "  <svg xmlns=\"http://www.w3.org/2000/svg\" height=\"24px\" viewBox=\"0 -960 960 960\">\n",
              "    <path d=\"M120-120v-720h720v720H120Zm60-500h600v-160H180v160Zm220 220h160v-160H400v160Zm0 220h160v-160H400v160ZM180-400h160v-160H180v160Zm440 0h160v-160H620v160ZM180-180h160v-160H180v160Zm440 0h160v-160H620v160Z\"/>\n",
              "  </svg>\n",
              "    </button>\n",
              "\n",
              "  <style>\n",
              "    .colab-df-container {\n",
              "      display:flex;\n",
              "      gap: 12px;\n",
              "    }\n",
              "\n",
              "    .colab-df-convert {\n",
              "      background-color: #E8F0FE;\n",
              "      border: none;\n",
              "      border-radius: 50%;\n",
              "      cursor: pointer;\n",
              "      display: none;\n",
              "      fill: #1967D2;\n",
              "      height: 32px;\n",
              "      padding: 0 0 0 0;\n",
              "      width: 32px;\n",
              "    }\n",
              "\n",
              "    .colab-df-convert:hover {\n",
              "      background-color: #E2EBFA;\n",
              "      box-shadow: 0px 1px 2px rgba(60, 64, 67, 0.3), 0px 1px 3px 1px rgba(60, 64, 67, 0.15);\n",
              "      fill: #174EA6;\n",
              "    }\n",
              "\n",
              "    .colab-df-buttons div {\n",
              "      margin-bottom: 4px;\n",
              "    }\n",
              "\n",
              "    [theme=dark] .colab-df-convert {\n",
              "      background-color: #3B4455;\n",
              "      fill: #D2E3FC;\n",
              "    }\n",
              "\n",
              "    [theme=dark] .colab-df-convert:hover {\n",
              "      background-color: #434B5C;\n",
              "      box-shadow: 0px 1px 3px 1px rgba(0, 0, 0, 0.15);\n",
              "      filter: drop-shadow(0px 1px 2px rgba(0, 0, 0, 0.3));\n",
              "      fill: #FFFFFF;\n",
              "    }\n",
              "  </style>\n",
              "\n",
              "    <script>\n",
              "      const buttonEl =\n",
              "        document.querySelector('#df-9a89d81e-6f9a-4459-ae6e-ce6ddf6ae55f button.colab-df-convert');\n",
              "      buttonEl.style.display =\n",
              "        google.colab.kernel.accessAllowed ? 'block' : 'none';\n",
              "\n",
              "      async function convertToInteractive(key) {\n",
              "        const element = document.querySelector('#df-9a89d81e-6f9a-4459-ae6e-ce6ddf6ae55f');\n",
              "        const dataTable =\n",
              "          await google.colab.kernel.invokeFunction('convertToInteractive',\n",
              "                                                    [key], {});\n",
              "        if (!dataTable) return;\n",
              "\n",
              "        const docLinkHtml = 'Like what you see? Visit the ' +\n",
              "          '<a target=\"_blank\" href=https://colab.research.google.com/notebooks/data_table.ipynb>data table notebook</a>'\n",
              "          + ' to learn more about interactive tables.';\n",
              "        element.innerHTML = '';\n",
              "        dataTable['output_type'] = 'display_data';\n",
              "        await google.colab.output.renderOutput(dataTable, element);\n",
              "        const docLink = document.createElement('div');\n",
              "        docLink.innerHTML = docLinkHtml;\n",
              "        element.appendChild(docLink);\n",
              "      }\n",
              "    </script>\n",
              "  </div>\n",
              "\n",
              "\n",
              "    <div id=\"df-475954cd-f61e-4214-a7ab-8d1bad5719c9\">\n",
              "      <button class=\"colab-df-quickchart\" onclick=\"quickchart('df-475954cd-f61e-4214-a7ab-8d1bad5719c9')\"\n",
              "                title=\"Suggest charts\"\n",
              "                style=\"display:none;\">\n",
              "\n",
              "<svg xmlns=\"http://www.w3.org/2000/svg\" height=\"24px\"viewBox=\"0 0 24 24\"\n",
              "     width=\"24px\">\n",
              "    <g>\n",
              "        <path d=\"M19 3H5c-1.1 0-2 .9-2 2v14c0 1.1.9 2 2 2h14c1.1 0 2-.9 2-2V5c0-1.1-.9-2-2-2zM9 17H7v-7h2v7zm4 0h-2V7h2v10zm4 0h-2v-4h2v4z\"/>\n",
              "    </g>\n",
              "</svg>\n",
              "      </button>\n",
              "\n",
              "<style>\n",
              "  .colab-df-quickchart {\n",
              "      --bg-color: #E8F0FE;\n",
              "      --fill-color: #1967D2;\n",
              "      --hover-bg-color: #E2EBFA;\n",
              "      --hover-fill-color: #174EA6;\n",
              "      --disabled-fill-color: #AAA;\n",
              "      --disabled-bg-color: #DDD;\n",
              "  }\n",
              "\n",
              "  [theme=dark] .colab-df-quickchart {\n",
              "      --bg-color: #3B4455;\n",
              "      --fill-color: #D2E3FC;\n",
              "      --hover-bg-color: #434B5C;\n",
              "      --hover-fill-color: #FFFFFF;\n",
              "      --disabled-bg-color: #3B4455;\n",
              "      --disabled-fill-color: #666;\n",
              "  }\n",
              "\n",
              "  .colab-df-quickchart {\n",
              "    background-color: var(--bg-color);\n",
              "    border: none;\n",
              "    border-radius: 50%;\n",
              "    cursor: pointer;\n",
              "    display: none;\n",
              "    fill: var(--fill-color);\n",
              "    height: 32px;\n",
              "    padding: 0;\n",
              "    width: 32px;\n",
              "  }\n",
              "\n",
              "  .colab-df-quickchart:hover {\n",
              "    background-color: var(--hover-bg-color);\n",
              "    box-shadow: 0 1px 2px rgba(60, 64, 67, 0.3), 0 1px 3px 1px rgba(60, 64, 67, 0.15);\n",
              "    fill: var(--button-hover-fill-color);\n",
              "  }\n",
              "\n",
              "  .colab-df-quickchart-complete:disabled,\n",
              "  .colab-df-quickchart-complete:disabled:hover {\n",
              "    background-color: var(--disabled-bg-color);\n",
              "    fill: var(--disabled-fill-color);\n",
              "    box-shadow: none;\n",
              "  }\n",
              "\n",
              "  .colab-df-spinner {\n",
              "    border: 2px solid var(--fill-color);\n",
              "    border-color: transparent;\n",
              "    border-bottom-color: var(--fill-color);\n",
              "    animation:\n",
              "      spin 1s steps(1) infinite;\n",
              "  }\n",
              "\n",
              "  @keyframes spin {\n",
              "    0% {\n",
              "      border-color: transparent;\n",
              "      border-bottom-color: var(--fill-color);\n",
              "      border-left-color: var(--fill-color);\n",
              "    }\n",
              "    20% {\n",
              "      border-color: transparent;\n",
              "      border-left-color: var(--fill-color);\n",
              "      border-top-color: var(--fill-color);\n",
              "    }\n",
              "    30% {\n",
              "      border-color: transparent;\n",
              "      border-left-color: var(--fill-color);\n",
              "      border-top-color: var(--fill-color);\n",
              "      border-right-color: var(--fill-color);\n",
              "    }\n",
              "    40% {\n",
              "      border-color: transparent;\n",
              "      border-right-color: var(--fill-color);\n",
              "      border-top-color: var(--fill-color);\n",
              "    }\n",
              "    60% {\n",
              "      border-color: transparent;\n",
              "      border-right-color: var(--fill-color);\n",
              "    }\n",
              "    80% {\n",
              "      border-color: transparent;\n",
              "      border-right-color: var(--fill-color);\n",
              "      border-bottom-color: var(--fill-color);\n",
              "    }\n",
              "    90% {\n",
              "      border-color: transparent;\n",
              "      border-bottom-color: var(--fill-color);\n",
              "    }\n",
              "  }\n",
              "</style>\n",
              "\n",
              "      <script>\n",
              "        async function quickchart(key) {\n",
              "          const quickchartButtonEl =\n",
              "            document.querySelector('#' + key + ' button');\n",
              "          quickchartButtonEl.disabled = true;  // To prevent multiple clicks.\n",
              "          quickchartButtonEl.classList.add('colab-df-spinner');\n",
              "          try {\n",
              "            const charts = await google.colab.kernel.invokeFunction(\n",
              "                'suggestCharts', [key], {});\n",
              "          } catch (error) {\n",
              "            console.error('Error during call to suggestCharts:', error);\n",
              "          }\n",
              "          quickchartButtonEl.classList.remove('colab-df-spinner');\n",
              "          quickchartButtonEl.classList.add('colab-df-quickchart-complete');\n",
              "        }\n",
              "        (() => {\n",
              "          let quickchartButtonEl =\n",
              "            document.querySelector('#df-475954cd-f61e-4214-a7ab-8d1bad5719c9 button');\n",
              "          quickchartButtonEl.style.display =\n",
              "            google.colab.kernel.accessAllowed ? 'block' : 'none';\n",
              "        })();\n",
              "      </script>\n",
              "    </div>\n",
              "\n",
              "    </div>\n",
              "  </div>\n"
            ],
            "application/vnd.google.colaboratory.intrinsic+json": {
              "type": "dataframe",
              "summary": "{\n  \"name\": \"countries\",\n  \"rows\": 8,\n  \"fields\": [\n    {\n      \"column\": \"Population\",\n      \"properties\": {\n        \"dtype\": \"number\",\n        \"std\": 457718759.252335,\n        \"min\": 227.0,\n        \"max\": 1313973713.0,\n        \"num_unique_values\": 8,\n        \"samples\": [\n          28740284.365638766,\n          4786994.0,\n          227.0\n        ],\n        \"semantic_type\": \"\",\n        \"description\": \"\"\n      }\n    },\n    {\n      \"column\": \"Area-Sq-Mi\",\n      \"properties\": {\n        \"dtype\": \"number\",\n        \"std\": 5920221.696955028,\n        \"min\": 2.0,\n        \"max\": 17075200.0,\n        \"num_unique_values\": 8,\n        \"samples\": [\n          598226.9559471365,\n          86600.0,\n          227.0\n        ],\n        \"semantic_type\": \"\",\n        \"description\": \"\"\n      }\n    },\n    {\n      \"column\": \"GDP\",\n      \"properties\": {\n        \"dtype\": \"number\",\n        \"std\": 18102.92390457116,\n        \"min\": 226.0,\n        \"max\": 55100.0,\n        \"num_unique_values\": 8,\n        \"samples\": [\n          9689.823008849558,\n          5550.0,\n          226.0\n        ],\n        \"semantic_type\": \"\",\n        \"description\": \"\"\n      }\n    },\n    {\n      \"column\": \"Literacy-Rate\",\n      \"properties\": {\n        \"dtype\": \"number\",\n        \"std\": 59.55678940177899,\n        \"min\": 17.6,\n        \"max\": 209.0,\n        \"num_unique_values\": 8,\n        \"samples\": [\n          82.83827751196172,\n          92.5,\n          209.0\n        ],\n        \"semantic_type\": \"\",\n        \"description\": \"\"\n      }\n    },\n    {\n      \"column\": \"Phones-per-1000\",\n      \"properties\": {\n        \"dtype\": \"number\",\n        \"std\": 324.6155744132606,\n        \"min\": 0.2,\n        \"max\": 1035.6,\n        \"num_unique_values\": 8,\n        \"samples\": [\n          236.06143497757847,\n          176.2,\n          223.0\n        ],\n        \"semantic_type\": \"\",\n        \"description\": \"\"\n      }\n    },\n    {\n      \"column\": \"Arable-Percentage\",\n      \"properties\": {\n        \"dtype\": \"number\",\n        \"std\": 75.83805522563503,\n        \"min\": 0.0,\n        \"max\": 225.0,\n        \"num_unique_values\": 8,\n        \"samples\": [\n          13.797111111111112,\n          10.42,\n          225.0\n        ],\n        \"semantic_type\": \"\",\n        \"description\": \"\"\n      }\n    },\n    {\n      \"column\": \"Birthrate\",\n      \"properties\": {\n        \"dtype\": \"number\",\n        \"std\": 72.79292637690772,\n        \"min\": 7.29,\n        \"max\": 224.0,\n        \"num_unique_values\": 8,\n        \"samples\": [\n          22.114732142857147,\n          18.79,\n          224.0\n        ],\n        \"semantic_type\": \"\",\n        \"description\": \"\"\n      }\n    }\n  ]\n}"
            }
          },
          "metadata": {},
          "execution_count": 25
        }
      ],
      "source": [
        "# 3. Print out summary descriptive statistics.\n",
        "\n",
        "countries.describe()\n"
      ]
    },
    {
      "cell_type": "code",
      "execution_count": 26,
      "metadata": {
        "id": "xYOHu-hCEDCf",
        "colab": {
          "base_uri": "https://localhost:8080/"
        },
        "outputId": "eaadd726-a494-4dac-a40b-e04e187e3e89"
      },
      "outputs": [
        {
          "output_type": "stream",
          "name": "stdout",
          "text": [
            "Average literacy rate: 82.84%\n"
          ]
        }
      ],
      "source": [
        "# 4. Average literacy rate in the world.\n",
        "\n",
        "avg_literacy = countries['Literacy-Rate'].mean()\n",
        "print(f\"Average literacy rate: {avg_literacy:.2f}%\")\n"
      ]
    },
    {
      "cell_type": "code",
      "execution_count": 27,
      "metadata": {
        "id": "H0Sj-fFWl4b6",
        "colab": {
          "base_uri": "https://localhost:8080/"
        },
        "outputId": "be96d86e-8c95-44e3-cc6a-c76a3f50e7a7"
      },
      "outputs": [
        {
          "output_type": "stream",
          "name": "stdout",
          "text": [
            "Five most populous countries are:\n",
            "China\n",
            "India\n",
            "United States\n",
            "Indonesia\n",
            "Brazil\n"
          ]
        }
      ],
      "source": [
        "# 5. Top 5 most populous countries\n",
        "\n",
        "populous_countries = (countries.nlargest(5, 'Population')['Country'])\n",
        "print(f\"Five most populous countries are:\")\n",
        "for i in populous_countries:\n",
        "  print(i)\n"
      ]
    },
    {
      "cell_type": "code",
      "execution_count": 28,
      "metadata": {
        "id": "F66lwNyal6hm",
        "colab": {
          "base_uri": "https://localhost:8080/"
        },
        "outputId": "400199e9-0659-4c7a-d879-97d769f774ac"
      },
      "outputs": [
        {
          "output_type": "stream",
          "name": "stdout",
          "text": [
            "Five countries with the lowest birthrate:\n",
            "Hong Kong\n",
            "Germany\n",
            "Macau\n",
            "Andorra\n",
            "Italy\n"
          ]
        }
      ],
      "source": [
        "# 6. The 5 countries with the lowest birthrate\n",
        "\n",
        "lowest_birthrate = (countries.nsmallest(5, 'Birthrate')['Country'])\n",
        "print(\"Five countries with the lowest birthrate:\")\n",
        "for i in lowest_birthrate:\n",
        "  print(i)\n"
      ]
    },
    {
      "cell_type": "code",
      "execution_count": 29,
      "metadata": {
        "id": "xpR5m-Fi6kiu",
        "colab": {
          "base_uri": "https://localhost:8080/"
        },
        "outputId": "18d944de-b47a-4bde-d0dc-ed6035c232d2"
      },
      "outputs": [
        {
          "output_type": "stream",
          "name": "stdout",
          "text": [
            "Number of countries in the Baltics: 3\n"
          ]
        }
      ],
      "source": [
        "# 7. Number of countries in the Baltics.\n",
        "\n",
        "countries_baltics = countries[countries['Region'] == \"BALTICS\"]\n",
        "print(f\"Number of countries in the Baltics: {len(countries_baltics)}\")\n",
        "\n"
      ]
    },
    {
      "cell_type": "code",
      "execution_count": 31,
      "metadata": {
        "id": "Rl11nspc6teS",
        "colab": {
          "base_uri": "https://localhost:8080/"
        },
        "outputId": "318f434e-6052-4b58-c5b8-58ce7271d6cd"
      },
      "outputs": [
        {
          "output_type": "stream",
          "name": "stdout",
          "text": [
            "Countries per region\n",
            "SUB-SAHARAN AFRICA: 51\n",
            "LATIN AMER. & CARIB: 45\n",
            "ASIA: 28\n",
            "WESTERN EUROPE: 28\n",
            "OCEANIA: 21\n",
            "NEAR EAST: 16\n",
            "C.W. OF IND. STATES: 12\n",
            "EASTERN EUROPE: 12\n",
            "NORTHERN AFRICA: 6\n",
            "NORTHERN AMERICA: 5\n",
            "BALTICS: 3\n"
          ]
        }
      ],
      "source": [
        "# 8. How many countries are in each region?\n",
        "\n",
        "region = countries['Region'].value_counts()\n",
        "print(\"Countries per region\")\n",
        "for i in region.keys():\n",
        "  print(f\"{i}: {region[i]}\")\n",
        "\n",
        "# Hint: use value_counts()\n",
        "\n",
        "\n"
      ]
    },
    {
      "cell_type": "code",
      "execution_count": 33,
      "metadata": {
        "id": "aw7EchfA1tOK",
        "colab": {
          "base_uri": "https://localhost:8080/"
        },
        "outputId": "abd2d4a3-53e0-4af1-f55a-deb9dd78b633"
      },
      "outputs": [
        {
          "output_type": "stream",
          "name": "stdout",
          "text": [
            "The average number of phones per 1000 people in countries in Oceania: 189.89.\n"
          ]
        }
      ],
      "source": [
        "# 9. How many phones per 1000 people are there in \"OCEANIA\" on average?\n",
        "\n",
        "oceania_countries = countries[countries['Region'] == \"OCEANIA\"]\n",
        "mean_country = oceania_countries[\"Phones-per-1000\"].mean()\n",
        "print(f\"The average number of phones per 1000 people in countries in Oceania: {mean_country:.2f}.\")\n",
        "\n",
        "# First get all the Oceania countries\n",
        "\n",
        "\n",
        "# Then get the the mean of their Phones-per-1000 column\n",
        "\n",
        "\n",
        "\n",
        "# Then print it out\n",
        "\n",
        "\n",
        "\n"
      ]
    },
    {
      "cell_type": "code",
      "execution_count": 35,
      "metadata": {
        "id": "PpTDoZ_-1YSa",
        "colab": {
          "base_uri": "https://localhost:8080/"
        },
        "outputId": "69cb09a5-7a51-40b4-d957-5cb3b283b3a1"
      },
      "outputs": [
        {
          "output_type": "stream",
          "name": "stdout",
          "text": [
            "Arable land in Kazakhstan is 216840.54 square miles.\n"
          ]
        }
      ],
      "source": [
        "# 10. How much land (not what percent) in Kazakhstan is arable?\n",
        "\n",
        "# First get Kazakhstan row\n",
        "\n",
        "# Then get area, which is provided in square miles.\n",
        "\n",
        "# Then get arable percentage.\n",
        "\n",
        "# Convert arable percentage to a decimal and then multiply.\n",
        "\n",
        "# Print out the result\n",
        "\n",
        "kazakhstan_row = countries[countries['Country'] == 'Kazakhstan']\n",
        "area = (kazakhstan_row['Area-Sq-Mi'][35])\n",
        "arable_percentage = (kazakhstan_row['Arable-Percentage'][35])\n",
        "arable_product = ((arable_percentage / 100) * area)\n",
        "print(f\"Arable land in Kazakhstan is {arable_product:.2f} square miles.\")\n",
        "\n"
      ]
    },
    {
      "cell_type": "code",
      "execution_count": null,
      "metadata": {
        "id": "qsAAHHtdc_ZB"
      },
      "outputs": [],
      "source": [
        "# 11. What country has the highest population density\n",
        "\n",
        "# Calculate the population density like this:\n",
        "countries[\"popd\"] = countries[\"Population\"] / countries[\"Area-Sq-Mi\"]\n",
        "\n",
        "# Then find the id of the one with the max population density with idmax\n",
        "\n",
        "\n",
        "# Then print it out.\n",
        "\n",
        "\n"
      ]
    },
    {
      "cell_type": "code",
      "execution_count": null,
      "metadata": {
        "id": "ja-sEBMidXvZ"
      },
      "outputs": [],
      "source": [
        "# 12. What country in \"LATIN AMER. & CARIB\" has the highest GDP?\n",
        "\n",
        "# First get the countries in this region.\n",
        "\n",
        "\n",
        "# Then get the id of the country with the max GDP from that dataframe with idxmax()\n",
        "\n",
        "\n",
        "\n",
        "# Then print out the country name using that index.\n",
        "\n"
      ]
    },
    {
      "cell_type": "markdown",
      "metadata": {
        "id": "9XBWNCsIHP3b"
      },
      "source": [
        "Here's what the output should look like for questions 4-12:\n",
        "\n",
        "```\n",
        "Average world literacy: 82.84%\n",
        "\n",
        "Five most populous countries:\n",
        "China\n",
        "India\n",
        "United States\n",
        "Indonesia\n",
        "Brazil\n",
        "\n",
        "Five countries with the lowest birthrate:\n",
        "Hong Kong\n",
        "Germany\n",
        "Macau\n",
        "Andorra\n",
        "Italy\n",
        "\n",
        "Number of countries in the Baltics: 3\n",
        "\n",
        "Countries per region\n",
        "SUB-SAHARAN AFRICA: 51\n",
        "LATIN AMER. & CARIB: 45\n",
        "ASIA: 28\n",
        "WESTERN EUROPE: 28\n",
        "OCEANIA: 21\n",
        "NEAR EAST: 16\n",
        "C.W. OF IND. STATES: 12\n",
        "EASTERN EUROPE: 12\n",
        "NORTHERN AFRICA: 6\n",
        "NORTHERN AMERICA: 5\n",
        "BALTICS: 3\n",
        "\n",
        "The average number of phones per 1000 people in countries in Oceania: 189.89.\n",
        "\n",
        "Arable land in Kazakhstan: 216840.54 sq. mi.\n",
        "\n",
        "Country with highest population density: Monaco\n",
        "\n",
        "Country in Latin American and Caribbean with highest GDP: Cayman Islands\n",
        "```"
      ]
    },
    {
      "cell_type": "markdown",
      "metadata": {
        "id": "NFMCjJ0EAuEy"
      },
      "source": [
        "## Submitting your work\n",
        "\n",
        "You should have already done a few of these steps at the beginning, but here's a reminder:\n",
        "\n",
        "1. Rename this file as `YourLastName_YourFirstName_DSP_PS5.ipynb`.\n",
        "\n",
        "This problem set is due Wednesday, October 22, at 11:59pm EDT.\n",
        "\n"
      ]
    }
  ],
  "metadata": {
    "colab": {
      "provenance": []
    },
    "kernelspec": {
      "display_name": "Python 3",
      "name": "python3"
    },
    "language_info": {
      "name": "python"
    }
  },
  "nbformat": 4,
  "nbformat_minor": 0
}